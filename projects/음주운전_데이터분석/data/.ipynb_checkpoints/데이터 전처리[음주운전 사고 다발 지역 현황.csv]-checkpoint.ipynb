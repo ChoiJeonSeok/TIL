{
 "cells": [
  {
   "cell_type": "code",
   "execution_count": 1,
   "id": "3d715be5",
   "metadata": {},
   "outputs": [
    {
     "name": "stderr",
     "output_type": "stream",
     "text": [
      "C:\\Users\\art\\anaconda3\\envs\\tensorflow\\lib\\site-packages\\numpy\\_distributor_init.py:30: UserWarning: loaded more than 1 DLL from .libs:\n",
      "C:\\Users\\art\\anaconda3\\envs\\tensorflow\\lib\\site-packages\\numpy\\.libs\\libopenblas.NOIJJG62EMASZI6NYURL6JBKM4EVBGM7.gfortran-win_amd64.dll\n",
      "C:\\Users\\art\\anaconda3\\envs\\tensorflow\\lib\\site-packages\\numpy\\.libs\\libopenblas64__v0.3.21-gcc_10_3_0.dll\n",
      "  warnings.warn(\"loaded more than 1 DLL from .libs:\"\n"
     ]
    }
   ],
   "source": [
    "import pandas as pd\n",
    "import matplotlib.pyplot as plt\n",
    "from matplotlib import rc\n",
    "%matplotlib inline\n",
    "from matplotlib import font_manager\n",
    "\n",
    "f_path = \"C:/windows/Fonts/malgun.ttf\"\n",
    "font_manager.FontProperties(fname=f_path).get_name()\n",
    "rc('font', family='Malgun Gothic')"
   ]
  },
  {
   "cell_type": "code",
   "execution_count": 2,
   "id": "13e3c586",
   "metadata": {},
   "outputs": [],
   "source": [
    "df = pd.read_csv(\"./done/음주운전 사고 다발 지역 현황.csv\", encoding='cp949')"
   ]
  },
  {
   "cell_type": "markdown",
   "id": "86f54530",
   "metadata": {},
   "source": [
    "## feature\n",
    "\n",
    "|이름|의미|\n",
    "|-|-|\n",
    "|사고다발지FID|공간 데이터베이스에서 각 지오메트리 객체(예: 포인트, 라인, 폴리곤)를 식별하기 위해 사용되는 고유 식별자 |\n",
    "|사고다발지ID|특정 지역을 구분하기 위한 고유한 식별자|\n",
    "|법정동코드|1111017500 <br> 1\\~2번째 자리수: 시,도 코드(11: 서울특별시)<br>3\\~4번째 자리수: 시군구 코드(11: 종로구)<br>5\\~8번째 자리수: 읍면동 코드(0175: 숭인동)<br>9\\~10번째 자리수: 번지 코드(00: 전체 지역을 의미합니다.)|\n",
    "|지점코드|지점명을 코드로 나타낸 것|\n",
    "|시도시군구명|시도시군구의 이름|\n",
    "|지점명|사고 발생 지점|\n",
    "|발생건수|사고가 발생한 횟수|\n",
    "|사상자수<br>사망자수<br>중상자수<br>경상자수<br>부상신고자수|해당 지점에서 일어난 사고로 인해 발생한 인명피해 수|\n",
    "|경도|경도|\n",
    "|위도|위도|\n",
    "|다발지역폴리곤|데이터를 시각화하기 위해 사용되는 지리 형상. GIS(지역정보시스템)에서 활용<br>행정구역별 인구 분포, 건물의 분포, 도로의 너비 등 지리 데이터를 시각화하여 분석|"
   ]
  },
  {
   "cell_type": "code",
   "execution_count": 3,
   "id": "0e5e61ae",
   "metadata": {},
   "outputs": [
    {
     "data": {
      "text/html": [
       "<div>\n",
       "<style scoped>\n",
       "    .dataframe tbody tr th:only-of-type {\n",
       "        vertical-align: middle;\n",
       "    }\n",
       "\n",
       "    .dataframe tbody tr th {\n",
       "        vertical-align: top;\n",
       "    }\n",
       "\n",
       "    .dataframe thead th {\n",
       "        text-align: right;\n",
       "    }\n",
       "</style>\n",
       "<table border=\"1\" class=\"dataframe\">\n",
       "  <thead>\n",
       "    <tr style=\"text-align: right;\">\n",
       "      <th></th>\n",
       "      <th>사고다발지FID</th>\n",
       "      <th>사고다발지ID</th>\n",
       "      <th>법정동코드</th>\n",
       "      <th>지점코드</th>\n",
       "      <th>시도시군구명</th>\n",
       "      <th>지점명</th>\n",
       "      <th>발생건수</th>\n",
       "      <th>사상자수</th>\n",
       "      <th>사망자수</th>\n",
       "      <th>중상자수</th>\n",
       "      <th>경상자수</th>\n",
       "      <th>부상신고자수</th>\n",
       "      <th>경도</th>\n",
       "      <th>위도</th>\n",
       "      <th>다발지역폴리곤</th>\n",
       "    </tr>\n",
       "  </thead>\n",
       "  <tbody>\n",
       "    <tr>\n",
       "      <th>0</th>\n",
       "      <td>6789498</td>\n",
       "      <td>2022051</td>\n",
       "      <td>1111017500</td>\n",
       "      <td>11110001</td>\n",
       "      <td>서울특별시 종로구1</td>\n",
       "      <td>서울특별시 종로구 숭인동(신설동역교차로 부근)</td>\n",
       "      <td>3</td>\n",
       "      <td>4</td>\n",
       "      <td>0</td>\n",
       "      <td>4</td>\n",
       "      <td>0</td>\n",
       "      <td>0</td>\n",
       "      <td>127.023122</td>\n",
       "      <td>37.575433</td>\n",
       "      <td>{\"type\":\"Polygon\",\"coordinates\":[[[127.0240199...</td>\n",
       "    </tr>\n",
       "    <tr>\n",
       "      <th>1</th>\n",
       "      <td>6792429</td>\n",
       "      <td>2022051</td>\n",
       "      <td>1114014300</td>\n",
       "      <td>11140001</td>\n",
       "      <td>서울특별시 중구1</td>\n",
       "      <td>서울특별시 중구 장충동1가(장충체육관앞 부근)</td>\n",
       "      <td>3</td>\n",
       "      <td>5</td>\n",
       "      <td>0</td>\n",
       "      <td>3</td>\n",
       "      <td>2</td>\n",
       "      <td>0</td>\n",
       "      <td>127.005786</td>\n",
       "      <td>37.559678</td>\n",
       "      <td>{\"type\":\"Polygon\",\"coordinates\":[[[127.0066838...</td>\n",
       "    </tr>\n",
       "  </tbody>\n",
       "</table>\n",
       "</div>"
      ],
      "text/plain": [
       "   사고다발지FID  사고다발지ID       법정동코드      지점코드      시도시군구명  \\\n",
       "0   6789498  2022051  1111017500  11110001  서울특별시 종로구1   \n",
       "1   6792429  2022051  1114014300  11140001   서울특별시 중구1   \n",
       "\n",
       "                         지점명  발생건수  사상자수  사망자수  중상자수  경상자수  부상신고자수  \\\n",
       "0  서울특별시 종로구 숭인동(신설동역교차로 부근)     3     4     0     4     0       0   \n",
       "1  서울특별시 중구 장충동1가(장충체육관앞 부근)     3     5     0     3     2       0   \n",
       "\n",
       "           경도         위도                                            다발지역폴리곤  \n",
       "0  127.023122  37.575433  {\"type\":\"Polygon\",\"coordinates\":[[[127.0240199...  \n",
       "1  127.005786  37.559678  {\"type\":\"Polygon\",\"coordinates\":[[[127.0066838...  "
      ]
     },
     "execution_count": 3,
     "metadata": {},
     "output_type": "execute_result"
    }
   ],
   "source": [
    "df.head(2)"
   ]
  },
  {
   "cell_type": "code",
   "execution_count": 4,
   "id": "12160833",
   "metadata": {},
   "outputs": [
    {
     "name": "stdout",
     "output_type": "stream",
     "text": [
      "<class 'pandas.core.frame.DataFrame'>\n",
      "RangeIndex: 335 entries, 0 to 334\n",
      "Data columns (total 15 columns):\n",
      " #   Column    Non-Null Count  Dtype  \n",
      "---  ------    --------------  -----  \n",
      " 0   사고다발지FID  335 non-null    int64  \n",
      " 1   사고다발지ID   335 non-null    int64  \n",
      " 2   법정동코드     335 non-null    int64  \n",
      " 3   지점코드      335 non-null    int64  \n",
      " 4   시도시군구명    335 non-null    object \n",
      " 5   지점명       335 non-null    object \n",
      " 6   발생건수      335 non-null    int64  \n",
      " 7   사상자수      335 non-null    int64  \n",
      " 8   사망자수      335 non-null    int64  \n",
      " 9   중상자수      335 non-null    int64  \n",
      " 10  경상자수      335 non-null    int64  \n",
      " 11  부상신고자수    335 non-null    int64  \n",
      " 12  경도        335 non-null    float64\n",
      " 13  위도        335 non-null    float64\n",
      " 14  다발지역폴리곤   335 non-null    object \n",
      "dtypes: float64(2), int64(10), object(3)\n",
      "memory usage: 39.4+ KB\n"
     ]
    }
   ],
   "source": [
    "df.info()\n",
    "# 결측치 없음.feature 정리 후 종료"
   ]
  },
  {
   "cell_type": "code",
   "execution_count": 5,
   "id": "89301d32",
   "metadata": {
    "scrolled": true
   },
   "outputs": [
    {
     "name": "stdout",
     "output_type": "stream",
     "text": [
      "<class 'pandas.core.frame.DataFrame'>\n",
      "Int64Index: 85 entries, 0 to 84\n",
      "Data columns (total 15 columns):\n",
      " #   Column    Non-Null Count  Dtype  \n",
      "---  ------    --------------  -----  \n",
      " 0   사고다발지FID  85 non-null     int64  \n",
      " 1   사고다발지ID   85 non-null     int64  \n",
      " 2   법정동코드     85 non-null     int64  \n",
      " 3   지점코드      85 non-null     int64  \n",
      " 4   시도시군구명    85 non-null     object \n",
      " 5   지점명       85 non-null     object \n",
      " 6   발생건수      85 non-null     int64  \n",
      " 7   사상자수      85 non-null     int64  \n",
      " 8   사망자수      85 non-null     int64  \n",
      " 9   중상자수      85 non-null     int64  \n",
      " 10  경상자수      85 non-null     int64  \n",
      " 11  부상신고자수    85 non-null     int64  \n",
      " 12  경도        85 non-null     float64\n",
      " 13  위도        85 non-null     float64\n",
      " 14  다발지역폴리곤   85 non-null     object \n",
      "dtypes: float64(2), int64(10), object(3)\n",
      "memory usage: 10.6+ KB\n"
     ]
    }
   ],
   "source": [
    "# 서울 지역으로 축소\n",
    "seoul_df = df[df['시도시군구명'].str.contains('서울')]\n",
    "seoul_df = seoul_df[seoul_df['지점명'].str.contains('서울')]\n",
    "seoul_df.info()"
   ]
  },
  {
   "cell_type": "code",
   "execution_count": 6,
   "id": "c968c99c",
   "metadata": {},
   "outputs": [
    {
     "name": "stdout",
     "output_type": "stream",
     "text": [
      "False\n",
      "False\n"
     ]
    }
   ],
   "source": [
    "# 모두 서울특별시로 시작하는지 확인하기 위해 서울로 시작하는 데이터가 있는지 확인.\n",
    "\n",
    "is_seoul_exist = df['시도시군구명'].str.match(r'서울(?!특별시)')\n",
    "print(is_seoul_exist.any())\n",
    "\n",
    "is_seoul_exist = df['지점명'].str.match(r'서울(?!특별시)')\n",
    "print(is_seoul_exist.any())"
   ]
  },
  {
   "cell_type": "code",
   "execution_count": 7,
   "id": "1c810a2c",
   "metadata": {},
   "outputs": [],
   "source": [
    "# 서울로 시작하는 경우가 있었다면 이렇게 바꾸면 된다.\n",
    "#df['시도시군구명'] = df['시도시군구명'].str.replace('서울', '서울특별시')\n",
    "#df['지점명'] = df['지점명'].str.replace('서울', '서울특별시')"
   ]
  },
  {
   "cell_type": "code",
   "execution_count": 8,
   "id": "a157e80d",
   "metadata": {},
   "outputs": [
    {
     "name": "stdout",
     "output_type": "stream",
     "text": [
      "[6789498 6792429 6792345 6789599 6789490 6789549 6789583 6792452 6789539\n",
      " 6792342 6789555 6792331 6790543 6789588 6792402 6792394 6792436 6790541\n",
      " 6789574 6792341 6789456 6792398 6789506 6792392 6792425 6789575 6792356\n",
      " 6789499 6789584 6790534 6792430 6792420 6792354 6792454 6792384 6789471\n",
      " 6789571 6792337 6792347 6792366 6789649 6792403 6789587 6789497 6792439\n",
      " 6792361 6792381 6789427 6792417 6792330 6789432 6789434 6792427 6792409\n",
      " 6789656 6792438 6789428 6789424 6789453 6789449 6789435 6790529 6789489\n",
      " 6789451 6790537 6792388 6789591 6789567 6789556 6792407 6789652 6789530\n",
      " 6792382 6789504 6789657 6789580 6789476 6789450 6789552 6789578 6789592\n",
      " 6792432 6789521 6789523 6789546]\n"
     ]
    },
    {
     "data": {
      "text/plain": [
       "array([2022051], dtype=int64)"
      ]
     },
     "execution_count": 8,
     "metadata": {},
     "output_type": "execute_result"
    }
   ],
   "source": [
    "print(seoul_df['사고다발지FID'].unique())\n",
    "seoul_df['사고다발지ID'].unique()"
   ]
  },
  {
   "cell_type": "code",
   "execution_count": 9,
   "id": "272d6319",
   "metadata": {},
   "outputs": [
    {
     "data": {
      "text/html": [
       "<div>\n",
       "<style scoped>\n",
       "    .dataframe tbody tr th:only-of-type {\n",
       "        vertical-align: middle;\n",
       "    }\n",
       "\n",
       "    .dataframe tbody tr th {\n",
       "        vertical-align: top;\n",
       "    }\n",
       "\n",
       "    .dataframe thead th {\n",
       "        text-align: right;\n",
       "    }\n",
       "</style>\n",
       "<table border=\"1\" class=\"dataframe\">\n",
       "  <thead>\n",
       "    <tr style=\"text-align: right;\">\n",
       "      <th></th>\n",
       "      <th>법정동코드</th>\n",
       "      <th>지점코드</th>\n",
       "      <th>시도시군구명</th>\n",
       "      <th>지점명</th>\n",
       "      <th>발생건수</th>\n",
       "      <th>사상자수</th>\n",
       "      <th>사망자수</th>\n",
       "      <th>중상자수</th>\n",
       "      <th>경상자수</th>\n",
       "      <th>부상신고자수</th>\n",
       "      <th>경도</th>\n",
       "      <th>위도</th>\n",
       "    </tr>\n",
       "  </thead>\n",
       "  <tbody>\n",
       "    <tr>\n",
       "      <th>0</th>\n",
       "      <td>1111017500</td>\n",
       "      <td>11110001</td>\n",
       "      <td>서울특별시 종로구1</td>\n",
       "      <td>서울특별시 종로구 숭인동(신설동역교차로 부근)</td>\n",
       "      <td>3</td>\n",
       "      <td>4</td>\n",
       "      <td>0</td>\n",
       "      <td>4</td>\n",
       "      <td>0</td>\n",
       "      <td>0</td>\n",
       "      <td>127.023122</td>\n",
       "      <td>37.575433</td>\n",
       "    </tr>\n",
       "    <tr>\n",
       "      <th>1</th>\n",
       "      <td>1114014300</td>\n",
       "      <td>11140001</td>\n",
       "      <td>서울특별시 중구1</td>\n",
       "      <td>서울특별시 중구 장충동1가(장충체육관앞 부근)</td>\n",
       "      <td>3</td>\n",
       "      <td>5</td>\n",
       "      <td>0</td>\n",
       "      <td>3</td>\n",
       "      <td>2</td>\n",
       "      <td>0</td>\n",
       "      <td>127.005786</td>\n",
       "      <td>37.559678</td>\n",
       "    </tr>\n",
       "    <tr>\n",
       "      <th>2</th>\n",
       "      <td>1114016200</td>\n",
       "      <td>11140002</td>\n",
       "      <td>서울특별시 중구2</td>\n",
       "      <td>서울특별시 중구 신당동(약수역서울3호선 부근)</td>\n",
       "      <td>3</td>\n",
       "      <td>5</td>\n",
       "      <td>0</td>\n",
       "      <td>3</td>\n",
       "      <td>2</td>\n",
       "      <td>0</td>\n",
       "      <td>127.010806</td>\n",
       "      <td>37.553750</td>\n",
       "    </tr>\n",
       "    <tr>\n",
       "      <th>3</th>\n",
       "      <td>1117012800</td>\n",
       "      <td>11170001</td>\n",
       "      <td>서울특별시 용산구1</td>\n",
       "      <td>서울특별시 용산구 한강로3가(한강대교북측 부근)</td>\n",
       "      <td>3</td>\n",
       "      <td>9</td>\n",
       "      <td>0</td>\n",
       "      <td>4</td>\n",
       "      <td>5</td>\n",
       "      <td>0</td>\n",
       "      <td>126.960990</td>\n",
       "      <td>37.522527</td>\n",
       "    </tr>\n",
       "    <tr>\n",
       "      <th>4</th>\n",
       "      <td>1120011400</td>\n",
       "      <td>11200001</td>\n",
       "      <td>서울특별시 성동구1</td>\n",
       "      <td>서울특별시 성동구 성수동1가(성수대교 부근)</td>\n",
       "      <td>4</td>\n",
       "      <td>12</td>\n",
       "      <td>0</td>\n",
       "      <td>7</td>\n",
       "      <td>5</td>\n",
       "      <td>0</td>\n",
       "      <td>127.036229</td>\n",
       "      <td>37.543578</td>\n",
       "    </tr>\n",
       "  </tbody>\n",
       "</table>\n",
       "</div>"
      ],
      "text/plain": [
       "        법정동코드      지점코드      시도시군구명                         지점명  발생건수  사상자수  \\\n",
       "0  1111017500  11110001  서울특별시 종로구1   서울특별시 종로구 숭인동(신설동역교차로 부근)     3     4   \n",
       "1  1114014300  11140001   서울특별시 중구1   서울특별시 중구 장충동1가(장충체육관앞 부근)     3     5   \n",
       "2  1114016200  11140002   서울특별시 중구2   서울특별시 중구 신당동(약수역서울3호선 부근)     3     5   \n",
       "3  1117012800  11170001  서울특별시 용산구1  서울특별시 용산구 한강로3가(한강대교북측 부근)     3     9   \n",
       "4  1120011400  11200001  서울특별시 성동구1    서울특별시 성동구 성수동1가(성수대교 부근)     4    12   \n",
       "\n",
       "   사망자수  중상자수  경상자수  부상신고자수          경도         위도  \n",
       "0     0     4     0       0  127.023122  37.575433  \n",
       "1     0     3     2       0  127.005786  37.559678  \n",
       "2     0     3     2       0  127.010806  37.553750  \n",
       "3     0     4     5       0  126.960990  37.522527  \n",
       "4     0     7     5       0  127.036229  37.543578  "
      ]
     },
     "execution_count": 9,
     "metadata": {},
     "output_type": "execute_result"
    }
   ],
   "source": [
    "seoul_df.drop('다발지역폴리곤', axis=1, inplace=True)\n",
    "seoul_df.drop('사고다발지FID', axis=1, inplace=True)\n",
    "seoul_df.drop('사고다발지ID', axis=1, inplace=True)\n",
    "seoul_df.head()"
   ]
  },
  {
   "cell_type": "code",
   "execution_count": 10,
   "id": "45f661f1",
   "metadata": {},
   "outputs": [],
   "source": [
    "seoul_df.to_csv('./result/서울_음주운전 사고 다발 지역 현황.csv', encoding='cp949')"
   ]
  },
  {
   "cell_type": "code",
   "execution_count": null,
   "id": "c5ebdce2",
   "metadata": {},
   "outputs": [],
   "source": []
  }
 ],
 "metadata": {
  "kernelspec": {
   "display_name": "TF",
   "language": "python",
   "name": "tensorflow"
  },
  "language_info": {
   "codemirror_mode": {
    "name": "ipython",
    "version": 3
   },
   "file_extension": ".py",
   "mimetype": "text/x-python",
   "name": "python",
   "nbconvert_exporter": "python",
   "pygments_lexer": "ipython3",
   "version": "3.8.16"
  }
 },
 "nbformat": 4,
 "nbformat_minor": 5
}
