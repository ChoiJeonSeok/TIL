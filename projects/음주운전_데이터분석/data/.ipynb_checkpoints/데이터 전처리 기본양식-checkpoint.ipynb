{
 "cells": [
  {
   "cell_type": "code",
   "execution_count": 1,
   "id": "f733d8d7",
   "metadata": {},
   "outputs": [
    {
     "name": "stderr",
     "output_type": "stream",
     "text": [
      "C:\\Users\\art\\anaconda3\\envs\\tensorflow\\lib\\site-packages\\numpy\\_distributor_init.py:30: UserWarning: loaded more than 1 DLL from .libs:\n",
      "C:\\Users\\art\\anaconda3\\envs\\tensorflow\\lib\\site-packages\\numpy\\.libs\\libopenblas.NOIJJG62EMASZI6NYURL6JBKM4EVBGM7.gfortran-win_amd64.dll\n",
      "C:\\Users\\art\\anaconda3\\envs\\tensorflow\\lib\\site-packages\\numpy\\.libs\\libopenblas64__v0.3.21-gcc_10_3_0.dll\n",
      "  warnings.warn(\"loaded more than 1 DLL from .libs:\"\n"
     ]
    }
   ],
   "source": [
    "# 데이터 전처리 및 분석 기본 코드\n",
    "import pandas as pd\n",
    "import matplotlib.pyplot as plt\n",
    "from matplotlib import rc\n",
    "%matplotlib inline\n",
    "from matplotlib import font_manager\n",
    "\n",
    "f_path = \"C:/windows/Fonts/malgun.ttf\"\n",
    "font_manager.FontProperties(fname=f_path).get_name()\n",
    "rc('font', family='Malgun Gothic')"
   ]
  },
  {
   "cell_type": "code",
   "execution_count": 2,
   "id": "9762f79f",
   "metadata": {},
   "outputs": [],
   "source": [
    "# txt 파일을 csv로 변환하는 코드\n",
    "\n",
    "import csv\n",
    "\n",
    "# txt 파일 경로와 이름 지정\n",
    "txt_file = r\"C:\\WORKSPACE-PYTHON\\multicampus\\drunk\\data\\법정동코드 전체자료.txt\"\n",
    "\n",
    "# csv 파일 경로와 이름 지정\n",
    "csv_file = r\"C:\\WORKSPACE-PYTHON\\multicampus\\drunk\\data\\법정동코드 전체자료.csv\"\n",
    "\n",
    "# txt 파일을 csv 파일로 변환\n",
    "with open(txt_file, 'r') as infile, open(csv_file, 'w', newline='', encoding='cp949') as outfile:\n",
    "    reader = csv.reader(infile, delimiter='\\t') # 탭으로 분리된 txt 파일이라면 delimiter를 '\\t'로 설정\n",
    "    writer = csv.writer(outfile, delimiter=',')\n",
    "    for row in reader:\n",
    "        writer.writerow(row)\n"
   ]
  },
  {
   "cell_type": "code",
   "execution_count": null,
   "id": "6ccb8acf",
   "metadata": {},
   "outputs": [],
   "source": [
    "df = pd.read_csv('file_path/file_name.csv',encoding='cp949')\n",
    "df.to_csv('file_path/file_name.csv', encoding='cp949')"
   ]
  },
  {
   "cell_type": "code",
   "execution_count": null,
   "id": "e11713cc",
   "metadata": {},
   "outputs": [],
   "source": [
    "import matplotlib.pyplot as plt\n",
    "\n",
    "# 데이터 준비\n",
    "x = [1, 2, 3, 4, 5]  # x 축 데이터\n",
    "y = [10, 20, 15, 25, 30]  # y 축 데이터\n",
    "\n",
    "# 그래프 그리기\n",
    "plt.plot(x, y)  # 선 그래프\n",
    "# 또는\n",
    "# plt.scatter(x, y)  # 산점도\n",
    "\n",
    "# 그래프 제목과 축 레이블 설정\n",
    "plt.title(\"Graph Title\")\n",
    "plt.xlabel(\"X-axis Label\")\n",
    "plt.ylabel(\"Y-axis Label\")\n",
    "\n",
    "# 그래프 출력\n",
    "plt.show()\n"
   ]
  }
 ],
 "metadata": {
  "kernelspec": {
   "display_name": "TF",
   "language": "python",
   "name": "tensorflow"
  },
  "language_info": {
   "codemirror_mode": {
    "name": "ipython",
    "version": 3
   },
   "file_extension": ".py",
   "mimetype": "text/x-python",
   "name": "python",
   "nbconvert_exporter": "python",
   "pygments_lexer": "ipython3",
   "version": "3.8.16"
  }
 },
 "nbformat": 4,
 "nbformat_minor": 5
}
