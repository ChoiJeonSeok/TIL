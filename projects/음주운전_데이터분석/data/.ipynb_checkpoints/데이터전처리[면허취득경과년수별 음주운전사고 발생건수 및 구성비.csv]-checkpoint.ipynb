{
 "cells": [
  {
   "cell_type": "code",
   "execution_count": 1,
   "id": "658e13df",
   "metadata": {},
   "outputs": [
    {
     "name": "stderr",
     "output_type": "stream",
     "text": [
      "C:\\Users\\art\\anaconda3\\envs\\tensorflow\\lib\\site-packages\\numpy\\_distributor_init.py:30: UserWarning: loaded more than 1 DLL from .libs:\n",
      "C:\\Users\\art\\anaconda3\\envs\\tensorflow\\lib\\site-packages\\numpy\\.libs\\libopenblas.NOIJJG62EMASZI6NYURL6JBKM4EVBGM7.gfortran-win_amd64.dll\n",
      "C:\\Users\\art\\anaconda3\\envs\\tensorflow\\lib\\site-packages\\numpy\\.libs\\libopenblas64__v0.3.21-gcc_10_3_0.dll\n",
      "  warnings.warn(\"loaded more than 1 DLL from .libs:\"\n"
     ]
    }
   ],
   "source": [
    "# 데이터 전처리 및 분석 기본 코드\n",
    "import pandas as pd\n",
    "import matplotlib.pyplot as plt\n",
    "from matplotlib import rc\n",
    "%matplotlib inline\n",
    "from matplotlib import font_manager\n",
    "\n",
    "f_path = \"C:/windows/Fonts/malgun.ttf\"\n",
    "font_manager.FontProperties(fname=f_path).get_name()\n",
    "rc('font', family='Malgun Gothic')"
   ]
  },
  {
   "cell_type": "code",
   "execution_count": 3,
   "id": "55f35294",
   "metadata": {},
   "outputs": [],
   "source": [
    "df = pd.read_csv('면허취득경과년수별 음주운전사고 발생건수 및 구성비.csv',encoding='utf-8')"
   ]
  },
  {
   "cell_type": "code",
   "execution_count": 4,
   "id": "08fbc755",
   "metadata": {},
   "outputs": [
    {
     "data": {
      "text/html": [
       "<div>\n",
       "<style scoped>\n",
       "    .dataframe tbody tr th:only-of-type {\n",
       "        vertical-align: middle;\n",
       "    }\n",
       "\n",
       "    .dataframe tbody tr th {\n",
       "        vertical-align: top;\n",
       "    }\n",
       "\n",
       "    .dataframe thead th {\n",
       "        text-align: right;\n",
       "    }\n",
       "</style>\n",
       "<table border=\"1\" class=\"dataframe\">\n",
       "  <thead>\n",
       "    <tr style=\"text-align: right;\">\n",
       "      <th></th>\n",
       "      <th>연도</th>\n",
       "      <th>구분</th>\n",
       "      <th>전체</th>\n",
       "      <th>소계(5년미만)</th>\n",
       "      <th>1년 미만</th>\n",
       "      <th>1~2년</th>\n",
       "      <th>2~3년</th>\n",
       "      <th>3~4년</th>\n",
       "      <th>4~5년</th>\n",
       "      <th>5~10년</th>\n",
       "      <th>10년 이상</th>\n",
       "      <th>기타</th>\n",
       "    </tr>\n",
       "  </thead>\n",
       "  <tbody>\n",
       "    <tr>\n",
       "      <th>0</th>\n",
       "      <td>2005</td>\n",
       "      <td>건수</td>\n",
       "      <td>26460</td>\n",
       "      <td>8869.0</td>\n",
       "      <td>1735.0</td>\n",
       "      <td>1395.0</td>\n",
       "      <td>2100.0</td>\n",
       "      <td>1905.0</td>\n",
       "      <td>1734.0</td>\n",
       "      <td>6050.0</td>\n",
       "      <td>8521.0</td>\n",
       "      <td>3020.0</td>\n",
       "    </tr>\n",
       "    <tr>\n",
       "      <th>1</th>\n",
       "      <td>2005</td>\n",
       "      <td>비율</td>\n",
       "      <td>100</td>\n",
       "      <td>33.5</td>\n",
       "      <td>6.6</td>\n",
       "      <td>5.3</td>\n",
       "      <td>7.9</td>\n",
       "      <td>7.2</td>\n",
       "      <td>6.6</td>\n",
       "      <td>22.9</td>\n",
       "      <td>32.2</td>\n",
       "      <td>11.4</td>\n",
       "    </tr>\n",
       "    <tr>\n",
       "      <th>2</th>\n",
       "      <td>2006</td>\n",
       "      <td>건수</td>\n",
       "      <td>29990</td>\n",
       "      <td>10301.0</td>\n",
       "      <td>1993.0</td>\n",
       "      <td>1912.0</td>\n",
       "      <td>1663.0</td>\n",
       "      <td>1594.0</td>\n",
       "      <td>3139.0</td>\n",
       "      <td>6934.0</td>\n",
       "      <td>9402.0</td>\n",
       "      <td>3353.0</td>\n",
       "    </tr>\n",
       "    <tr>\n",
       "      <th>3</th>\n",
       "      <td>2006</td>\n",
       "      <td>비율</td>\n",
       "      <td>100</td>\n",
       "      <td>34.3</td>\n",
       "      <td>6.6</td>\n",
       "      <td>6.4</td>\n",
       "      <td>5.5</td>\n",
       "      <td>5.3</td>\n",
       "      <td>10.5</td>\n",
       "      <td>23.1</td>\n",
       "      <td>31.4</td>\n",
       "      <td>11.2</td>\n",
       "    </tr>\n",
       "    <tr>\n",
       "      <th>4</th>\n",
       "      <td>2007</td>\n",
       "      <td>건수</td>\n",
       "      <td>28416</td>\n",
       "      <td>8892.0</td>\n",
       "      <td>1695.0</td>\n",
       "      <td>1781.0</td>\n",
       "      <td>1622.0</td>\n",
       "      <td>1099.0</td>\n",
       "      <td>2695.0</td>\n",
       "      <td>7064.0</td>\n",
       "      <td>9103.0</td>\n",
       "      <td>3357.0</td>\n",
       "    </tr>\n",
       "  </tbody>\n",
       "</table>\n",
       "</div>"
      ],
      "text/plain": [
       "     연도  구분     전체  소계(5년미만)   1년 미만    1~2년    2~3년    3~4년    4~5년   5~10년  \\\n",
       "0  2005  건수  26460    8869.0  1735.0  1395.0  2100.0  1905.0  1734.0  6050.0   \n",
       "1  2005  비율    100      33.5     6.6     5.3     7.9     7.2     6.6    22.9   \n",
       "2  2006  건수  29990   10301.0  1993.0  1912.0  1663.0  1594.0  3139.0  6934.0   \n",
       "3  2006  비율    100      34.3     6.6     6.4     5.5     5.3    10.5    23.1   \n",
       "4  2007  건수  28416    8892.0  1695.0  1781.0  1622.0  1099.0  2695.0  7064.0   \n",
       "\n",
       "   10년 이상      기타  \n",
       "0  8521.0  3020.0  \n",
       "1    32.2    11.4  \n",
       "2  9402.0  3353.0  \n",
       "3    31.4    11.2  \n",
       "4  9103.0  3357.0  "
      ]
     },
     "execution_count": 4,
     "metadata": {},
     "output_type": "execute_result"
    }
   ],
   "source": [
    "df.head()"
   ]
  },
  {
   "cell_type": "code",
   "execution_count": 5,
   "id": "40d2cdb4",
   "metadata": {},
   "outputs": [
    {
     "name": "stdout",
     "output_type": "stream",
     "text": [
      "<class 'pandas.core.frame.DataFrame'>\n",
      "RangeIndex: 20 entries, 0 to 19\n",
      "Data columns (total 12 columns):\n",
      " #   Column    Non-Null Count  Dtype  \n",
      "---  ------    --------------  -----  \n",
      " 0   연도        20 non-null     int64  \n",
      " 1   구분        20 non-null     object \n",
      " 2   전체        20 non-null     int64  \n",
      " 3   소계(5년미만)  20 non-null     float64\n",
      " 4   1년 미만     20 non-null     float64\n",
      " 5   1~2년      20 non-null     float64\n",
      " 6   2~3년      20 non-null     float64\n",
      " 7   3~4년      20 non-null     float64\n",
      " 8   4~5년      20 non-null     float64\n",
      " 9   5~10년     20 non-null     float64\n",
      " 10  10년 이상    20 non-null     float64\n",
      " 11  기타        20 non-null     float64\n",
      "dtypes: float64(9), int64(2), object(1)\n",
      "memory usage: 2.0+ KB\n"
     ]
    }
   ],
   "source": [
    "df.info()"
   ]
  },
  {
   "cell_type": "code",
   "execution_count": 9,
   "id": "3a07b260",
   "metadata": {},
   "outputs": [],
   "source": [
    "# 기타에 대하여.\n",
    "# 운전을 할 때 운전자는 두 부류로 나뉜다. \n",
    "# 면허가 있는 사람과, 면허가 없는 사람.\n",
    "# 위 자료는 면허취득한 사람이 음주운전한 결과이다. \n",
    "# 1년 미만부터 10년 이상까지 중간에 빠진 부분이 없다. 운전면허증이 있는 사람은 저 범위 안에 반드시 포함된다.\n",
    "# https://www.khepi.or.kr/acs/acsStat/result?menuId=-&tableGubun=DATA010408 \n",
    "# 무면허는 기타에 포함되어 있다고 한다. \n",
    "# 기타는 면허가 있음에도 면허를 확인하지 못한 경우와 무면허인 경우가 있을 수 있지만, 사실상 둘 다 최종적으로는 무면허로 처리가 될 것이다.\n",
    "# 왜냐하면, 최종적으로 면허가 확인되면 1년 미만부터 10년 이상의 범주 안에 들어갈 수 있기 때문이다.\n",
    "# 따라서 기타를 무면허로 바꾼다.\n",
    "df = df.rename(columns={'기타': '무면허'})\n",
    "df"
   ]
  },
  {
   "cell_type": "code",
   "execution_count": 11,
   "id": "a33a375e",
   "metadata": {},
   "outputs": [],
   "source": [
    "df.to_csv('./result/면허취득경과년수별 음주운전사고 발생건수 및 구성비.csv', encoding='cp949')"
   ]
  },
  {
   "cell_type": "code",
   "execution_count": null,
   "id": "8cd9b059",
   "metadata": {},
   "outputs": [],
   "source": []
  }
 ],
 "metadata": {
  "kernelspec": {
   "display_name": "Python 3 (ipykernel)",
   "language": "python",
   "name": "python3"
  },
  "language_info": {
   "codemirror_mode": {
    "name": "ipython",
    "version": 3
   },
   "file_extension": ".py",
   "mimetype": "text/x-python",
   "name": "python",
   "nbconvert_exporter": "python",
   "pygments_lexer": "ipython3",
   "version": "3.8.16"
  }
 },
 "nbformat": 4,
 "nbformat_minor": 5
}
