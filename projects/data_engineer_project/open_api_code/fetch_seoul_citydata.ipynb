{
 "cells": [
  {
   "cell_type": "code",
   "execution_count": 7,
   "id": "83b76e5d",
   "metadata": {},
   "outputs": [],
   "source": [
    "import requests\n",
    "import xml.etree.ElementTree as ET\n",
    "import pandas as pd\n",
    "\n",
    "def fetch_city_data(fileDir, place=\"empty\", mode=\"new\", encoding=\"cp949\"):\n",
    "    if fileDir is None:\n",
    "        return print(\"fileDir을 입력해주세요.\")\n",
    "    elif place == \"empty\":\n",
    "        return print(\"관광지를 place에 입력해주세요.\")\n",
    "    \n",
    "    # API 엔드포인트와 KEY 값을 연결하여 URL 생성\n",
    "    base_url = \"http://openapi.seoul.go.kr:8088/\"\n",
    "    key = \"write your api key\"\n",
    "    url = f\"{base_url}{key}/xml/citydata/1/5/{place}\"\n",
    "\n",
    "    # API 요청 보내기\n",
    "    response = requests.get(url)\n",
    "\n",
    "    # 응답 결과 확인\n",
    "    if response.status_code == 200:\n",
    "        # API 요청 성공\n",
    "        data = response.content\n",
    "        \n",
    "        # XML 파싱\n",
    "        root = ET.fromstring(data)\n",
    "        \n",
    "        # 추출하고자 하는 태그들을 리스트로 저장\n",
    "        tags = ['AREA_NM', 'AREA_CD', 'AREA_CONGEST_LVL', 'AREA_CONGEST_MSG', \n",
    "                'AREA_PPLTN_MIN', 'AREA_PPLTN_MAX', 'MALE_PPLTN_RATE', \n",
    "                'FEMALE_PPLTN_RATE', 'PPLTN_RATE_0', 'PPLTN_RATE_10', \n",
    "                'PPLTN_RATE_20', 'PPLTN_RATE_30', 'PPLTN_RATE_40', \n",
    "                'PPLTN_RATE_50', 'PPLTN_RATE_60', 'PPLTN_RATE_70', \n",
    "                'RESNT_PPLTN_RATE', 'NON_RESNT_PPLTN_RATE', 'PPLTN_TIME',\n",
    "                'ACDNT_OCCR_DT', 'EXP_CLR_DT', 'ACDNT_TYPE', 'ACDNT_DTYPE',\n",
    "                'ACDNT_INFO', 'ACDNT_X', 'ACDNT_Y', 'ACDNT_TIME',\n",
    "                'TEMP', 'SENSIBLE_TEMP', 'MAX_TEMP', 'MIN_TEMP', 'HUMIDITY',\n",
    "                'WIND_DIRCT', 'WIND_SPD', 'PRECIPITATION', 'PRECPT_TYPE', 'PCP_MSG',\n",
    "                'UV_INDEX_LVL', 'UV_INDEX', 'UV_MSG', 'PM25_INDEX', 'PM25',\n",
    "                'PM10_INDEX', 'PM10', 'AIR_MSG', 'WARN_MSG',\n",
    "                'EVENT_NM','EVENT_PERIOD','EVENT_PLACE','EVENT_ETC_DETAIL']\n",
    "\n",
    "        # 데이터를 저장할 리스트\n",
    "        results = []\n",
    "\n",
    "        # 전체 구간 추출 및 데이터 수집\n",
    "        for citydata in root.findall(\".//CITYDATA\"):\n",
    "            data_dict = {}\n",
    "\n",
    "            # 각 태그별로 데이터 추출\n",
    "            for tag in tags:\n",
    "                sub_element = citydata.find(\".//\"+tag)\n",
    "                if sub_element is not None:\n",
    "                    data_dict[tag] = sub_element.text\n",
    "                else:\n",
    "                    data_dict[tag] = None\n",
    "\n",
    "            # 딕셔너리를 리스트에 추가\n",
    "            results.append(data_dict)\n",
    "\n",
    "        # 데이터를 DataFrame으로 변환\n",
    "        new_df = pd.DataFrame(results)\n",
    "\n",
    "        if mode == \"new\":\n",
    "            # 새로운 파일로 저장\n",
    "            new_df.to_csv(fileDir, index=False, encoding=encoding)\n",
    "            print(\"데이터를 새로운 CSV 파일로 저장했습니다.\")\n",
    "        elif mode == \"append\":\n",
    "            try:\n",
    "                # 기존 CSV 파일 로드\n",
    "                existing_df = pd.read_csv(fileDir, encoding=encoding)\n",
    "\n",
    "                # 데이터를 기존 파일에 추가\n",
    "                merged_df = pd.concat([existing_df, new_df], ignore_index=True)\n",
    "\n",
    "                # 추가된 데이터를 CSV 파일로 저장\n",
    "                merged_df.to_csv(fileDir, index=False, encoding=encoding)\n",
    "                print(\"데이터를 기존 CSV 파일에 추가했습니다.\")\n",
    "            except FileNotFoundError:\n",
    "                # 기존 파일이 없을 경우, 새로운 파일로 저장\n",
    "                new_df.to_csv(fileDir, index=False, encoding=encoding)\n",
    "                print(\"기존 CSV 파일이 없어 데이터를 새로운 파일로 저장했습니다.\")\n",
    "        else:\n",
    "            print(\"잘못된 모드입니다. 'new' 또는 'append'를 선택하세요.\")\n",
    "    else:\n",
    "        # API 요청 실패\n",
    "        print(\"API 요청에 실패했습니다.\")"
   ]
  },
  {
   "cell_type": "code",
   "execution_count": 8,
   "id": "d82f9168",
   "metadata": {},
   "outputs": [
    {
     "name": "stdout",
     "output_type": "stream",
     "text": [
      "데이터를 기존 CSV 파일에 추가했습니다.\n"
     ]
    }
   ],
   "source": [
    "fetch_city_data('output12.csv', place=\"광화문·덕수궁\" ,mode=\"append\")"
   ]
  },
  {
   "cell_type": "code",
   "execution_count": null,
   "id": "cf98312b",
   "metadata": {},
   "outputs": [],
   "source": []
  }
 ],
 "metadata": {
  "kernelspec": {
   "display_name": "TF",
   "language": "python",
   "name": "tensorflow"
  },
  "language_info": {
   "codemirror_mode": {
    "name": "ipython",
    "version": 3
   },
   "file_extension": ".py",
   "mimetype": "text/x-python",
   "name": "python",
   "nbconvert_exporter": "python",
   "pygments_lexer": "ipython3",
   "version": "3.8.16"
  }
 },
 "nbformat": 4,
 "nbformat_minor": 5
}
